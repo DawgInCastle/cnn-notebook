{
  "cells": [
    {
      "cell_type": "markdown",
      "metadata": {
        "id": "UXZH30cK92iC"
      },
      "source": [
        "# Importing Dataset\n",
        "Importing in the dataset from google drive rather than immediate ones"
      ]
    },
    {
      "cell_type": "markdown",
      "metadata": {
        "id": "bBL2w69rNNJv"
      },
      "source": [
        "**NOTE** : This is really bad colab still works on python 3.8 so no struct pattern matching or even typing shortcuts. Hard despair. Might need to develop flags to actually work with on the data"
      ]
    },
    {
      "cell_type": "code",
      "execution_count": null,
      "metadata": {
        "colab": {
          "base_uri": "https://localhost:8080/"
        },
        "id": "pIFCVHz09uoZ",
        "outputId": "e5128bc9-52f7-4ff3-872e-e84b0dec4db8"
      },
      "outputs": [
        {
          "output_type": "stream",
          "name": "stdout",
          "text": [
            "Mounted at /content/drive\n"
          ]
        }
      ],
      "source": [
        "# Datasets\n",
        "import google.colab.drive\n",
        "import numpy\n",
        "google.colab.drive.mount(\"/content/drive\")"
      ]
    },
    {
      "cell_type": "code",
      "execution_count": null,
      "metadata": {
        "colab": {
          "base_uri": "https://localhost:8080/"
        },
        "id": "NZBLCber-Zpq",
        "outputId": "2083ca8d-7d26-4ae3-a2ff-c06bb0d62c32"
      },
      "outputs": [
        {
          "output_type": "stream",
          "name": "stdout",
          "text": [
            "Training   setx shape : (45000, 3, 64, 64)\n",
            "Training   sety shape : (45000,)\n",
            "Testing    setx shape : (10000, 3, 64, 64)\n",
            "Testing    sety shape : (10000,)\n",
            "Validation setx shape : (15000, 3, 64, 64)\n",
            "Validation sety shape : (15000,)\n"
          ]
        }
      ],
      "source": [
        "train_x = numpy.load(\"/content/drive/My Drive/Datasets/Images/train_x.npy\", allow_pickle=True)\n",
        "train_y = numpy.load(\"/content/drive/My Drive/Datasets/Images/train_y.npy\", allow_pickle=True)\n",
        "test_x  = numpy.load(\"/content/drive/My Drive/Datasets/Images/test_x.npy\" , allow_pickle=True)\n",
        "test_y  = numpy.load(\"/content/drive/My Drive/Datasets/Images/test_y.npy\" , allow_pickle=True)\n",
        "valid_x = numpy.load(\"/content/drive/My Drive/Datasets/Images/valid_x.npy\", allow_pickle=True)\n",
        "valid_y = numpy.load(\"/content/drive/My Drive/Datasets/Images/valid_y.npy\", allow_pickle=True)\n",
        "\n",
        "print(f\"Training   setx shape : {train_x.shape}\")\n",
        "print(f\"Training   sety shape : {train_y.shape}\")\n",
        "print(f\"Testing    setx shape : {test_x.shape}\")\n",
        "print(f\"Testing    sety shape : {test_y.shape}\")\n",
        "print(f\"Validation setx shape : {valid_x.shape}\")\n",
        "print(f\"Validation sety shape : {valid_y.shape}\")"
      ]
    },
    {
      "cell_type": "markdown",
      "metadata": {
        "id": "HugxATTxAttK"
      },
      "source": [
        "# Importing libraries and stuff"
      ]
    },
    {
      "cell_type": "code",
      "execution_count": null,
      "metadata": {
        "id": "TJNx_w6LAeEc"
      },
      "outputs": [],
      "source": [
        "import keras\n",
        "import keras.layers\n",
        "import keras.models\n",
        "import keras.backend\n",
        "import keras.applications\n",
        "import tensorflow\n",
        "import matplotlib\n",
        "import random\n",
        "import typing\n",
        "import itertools\n",
        "import os\n",
        "import datetime"
      ]
    },
    {
      "cell_type": "code",
      "execution_count": null,
      "metadata": {
        "colab": {
          "base_uri": "https://localhost:8080/"
        },
        "id": "a_C3sKn-VpQP",
        "outputId": "1b2d0303-3b38-4fd3-e91f-06cd8990f0fd"
      },
      "outputs": [
        {
          "output_type": "execute_result",
          "data": {
            "text/plain": [
              "2"
            ]
          },
          "metadata": {},
          "execution_count": 5
        }
      ],
      "source": [
        "# Load the TensorBoard notebook extension\n",
        "%load_ext tensorboard\n",
        "import tensorflow as tf\n",
        "import datetime, os\n",
        "import multiprocessing\n",
        "pool = multiprocessing.Pool()\n",
        "pool._processes"
      ]
    },
    {
      "cell_type": "markdown",
      "metadata": {
        "id": "6nh-dYjEI_Az"
      },
      "source": [
        "# Showing a Random Image\n",
        "We try to produce a random image out of the whole dataset and check how the evaluation is usually done"
      ]
    },
    {
      "cell_type": "code",
      "execution_count": null,
      "metadata": {
        "colab": {
          "base_uri": "https://localhost:8080/"
        },
        "id": "YbaUHmtEGbmN",
        "outputId": "f54149cc-be2e-45d4-a899-09d81d1de545"
      },
      "outputs": [
        {
          "output_type": "stream",
          "name": "stdout",
          "text": [
            "This image has a y value of : 0\n",
            "[0.5823812  0.65565443 0.75694436]\n"
          ]
        },
        {
          "output_type": "display_data",
          "data": {
            "text/plain": [
              "<Figure size 432x288 with 1 Axes>"
            ],
            "image/png": "[encoded data removed]"
          },
          "metadata": {
            "needs_background": "light"
          }
        }
      ],
      "source": [
        "\n",
        "# Reshaping all the dataset\n",
        "# Imshow prefers printing out in the form x,y,channel\n",
        "# The dataset is normalized back to 0 and 1 to print\n",
        "rescale_0_1 = lambda x : (x - x.min())/(x.max() - x.min())\n",
        "show_random_image = lambda : train_x[random.randint(0,train_x.shape[0]-1)]\n",
        "\n",
        "def show_random_train_image_with_idx(return_idx = False) -> typing.Union[int, None] :\n",
        "  index : int = random.randint(0, train_x.shape[0] - 1)\n",
        "  matplotlib.pyplot.imshow(\n",
        "      rescale_0_1(\n",
        "          numpy.moveaxis(train_x[index], 0, -1)\n",
        "      )\n",
        "  )\n",
        "  if (return_idx == True): return index\n",
        "  else : print(index)\n",
        "  \n",
        "# matplotlib.pyplot.imshow(rescale_0_1(numpy.moveaxis(show_random_image(), 0, -1)))\n",
        "index : int = show_random_train_image_with_idx(return_idx=True)\n",
        "print(f\"This image has a y value of : {train_y[index]}\")\n",
        "black_pixels : int = 0\n",
        "print(rescale_0_1(numpy.moveaxis(train_x[index], 0 , -1))[0,0,:])\n",
        "# for i,j in itertools.product(range(64), range(64)):"
      ]
    },
    {
      "cell_type": "markdown",
      "metadata": {
        "id": "Ivc622z2dg9A"
      },
      "source": [
        "# Histogramic Analysis\n",
        "We show that thrugh histogrmixc analysis there is a section that we can favour to remove to eliminate most of teh balck pixels in our data and we can use this modified datset for training purposes and even for the test purpses we can section out out test data and fit into our model."
      ]
    },
    {
      "cell_type": "code",
      "execution_count": null,
      "metadata": {
        "colab": {
          "base_uri": "https://localhost:8080/",
          "height": 282
        },
        "id": "8wBqQBVqWq7H",
        "outputId": "4a5ec238-8087-4e27-8888-23b60a4aca9a"
      },
      "outputs": [
        {
          "name": "stderr",
          "output_type": "stream",
          "text": [
            "100%|██████████| 45000/45000 [17:15<00:00, 43.47it/s]\n"
          ]
        },
        {
          "data": {
            "image/png": "[encoded data removed]",
            "text/plain": [
              "<Figure size 432x288 with 1 Axes>"
            ]
          },
          "metadata": {},
          "output_type": "display_data"
        }
      ],
      "source": [
        "# Trying to see how many of them actually have a black pixel\n",
        "# Not necessarily the actual value but should be around true value\n",
        "import itertools\n",
        "import tqdm\n",
        "\n",
        "black_pixels_counter = []\n",
        "for i in tqdm.trange(len(train_x)):\n",
        "  x = train_x[i]\n",
        "  rescaled = rescale_0_1(numpy.moveaxis(x, 0, -1))\n",
        "  count = 0\n",
        "  for i,j in itertools.product(range(rescaled.shape[0]), range(rescaled.shape[1])):\n",
        "    if (rescaled[i,j,:] <= numpy.array([0.0001,0.005,0.08])).all():\n",
        "      count += 1\n",
        "  black_pixels_counter.append(count)\n",
        "\n",
        "matplotlib.pyplot.hist(black_pixels_counter, bins = 20)\n",
        "matplotlib.pyplot.show()\n"
      ]
    },
    {
      "cell_type": "code",
      "execution_count": null,
      "metadata": {
        "colab": {
          "base_uri": "https://localhost:8080/",
          "height": 282
        },
        "id": "HrVivzSSePtd",
        "outputId": "a4d7442c-04aa-4479-a580-4ca1af76e335"
      },
      "outputs": [
        {
          "name": "stderr",
          "output_type": "stream",
          "text": [
            "100%|██████████| 45000/45000 [06:09<00:00, 121.72it/s]\n"
          ]
        },
        {
          "data": {
            "image/png": "[encoded data removed]",
            "text/plain": [
              "<Figure size 432x288 with 1 Axes>"
            ]
          },
          "metadata": {},
          "output_type": "display_data"
        }
      ],
      "source": [
        "\n",
        "# We shall also show a comapritive graph of how many of these lie in the areas that definitely are the images and check validity\n",
        "# The ranges for actually finding the black pixelss are ((10,20), (40,50)) and all combinations\n",
        "\n",
        "import itertools\n",
        "section = ((5,25), (35,55))\n",
        "\n",
        "\n",
        "black_pixel_why_there_counter = []\n",
        "\n",
        "for i in tqdm.trange(len(train_x)):\n",
        "  x = train_x[i]\n",
        "  rescaled = rescale_0_1(numpy.moveaxis(x, 0, -1))\n",
        "  count = 0\n",
        "  for x,y in itertools.product(section, section):\n",
        "    for i,j in itertools.product(range(x[0], x[1]), range(y[0], y[1])):\n",
        "      if (rescaled[i,j,:] <= numpy.array([0.0001,0.005,0.08])).all():\n",
        "        count += 1\n",
        "  black_pixel_why_there_counter.append(count)\n",
        "\n",
        "matplotlib.pyplot.hist(black_pixel_why_there_counter)\n",
        "matplotlib.pyplot.show()\n",
        "    \n",
        "  "
      ]
    },
    {
      "cell_type": "code",
      "execution_count": null,
      "metadata": {
        "colab": {
          "base_uri": "https://localhost:8080/"
        },
        "id": "7yUZoWgsky5r",
        "outputId": "186b78d8-d176-41f6-8cb2-b14cc1435424"
      },
      "outputs": [
        {
          "name": "stdout",
          "output_type": "stream",
          "text": [
            "[439.0, 500.0, 556.0, 610.0, 670.0]\n",
            "[0.0, 0.0, 0.0, 0.0, 1.0]\n",
            "[False False False ... False False False]\n",
            "8764\n",
            "45000 - 45000\n"
          ]
        }
      ],
      "source": [
        "import statistics\n",
        "\n",
        "print(statistics.quantiles(black_pixels_counter, n = 6))\n",
        "print(statistics.quantiles(black_pixel_why_there_counter, n = 6))\n",
        "\n",
        "print(black_pixel_why_there_counter > numpy.zeros(black_pixel_why_there_counter.__len__()))\n",
        "\n",
        "print(numpy.count_nonzero(black_pixel_why_there_counter > numpy.zeros(black_pixel_why_there_counter.__len__())))\n",
        "\n",
        "print(f\"{len(black_pixels_counter)} - {len(black_pixel_why_there_counter)}\")\n",
        "\n",
        "# So there is only one pixel in that region which have complete black pixel "
      ]
    },
    {
      "cell_type": "code",
      "execution_count": null,
      "metadata": {
        "colab": {
          "base_uri": "https://localhost:8080/",
          "height": 282
        },
        "id": "MmwSbp6kG4eh",
        "outputId": "bfc256f3-068b-4b4b-93b0-9b7bb91227ff"
      },
      "outputs": [
        {
          "name": "stderr",
          "output_type": "stream",
          "text": [
            "100%|██████████| 45000/45000 [07:53<00:00, 95.07it/s]\n"
          ]
        },
        {
          "data": {
            "image/png": "[encoded data removed]",
            "text/plain": [
              "<Figure size 432x288 with 1 Axes>"
            ]
          },
          "metadata": {},
          "output_type": "display_data"
        }
      ],
      "source": [
        "\n",
        "import itertools\n",
        "section = ((5,27), (37,59))\n",
        "\n",
        "\n",
        "black_pixel_why_there_counter = []\n",
        "\n",
        "for i in tqdm.trange(len(train_x)):\n",
        "  x = train_x[i]\n",
        "  rescaled = rescale_0_1(numpy.moveaxis(x, 0, -1))\n",
        "  count = 0\n",
        "  for x,y in itertools.product(section, section):\n",
        "    for i,j in itertools.product(range(x[0], x[1]), range(y[0], y[1])):\n",
        "      if (rescaled[i,j,:] <= numpy.array([0.0001,0.005,0.08])).all():\n",
        "        count += 1\n",
        "  black_pixel_why_there_counter.append(count)\n",
        "\n",
        "matplotlib.pyplot.hist(black_pixel_why_there_counter)\n",
        "matplotlib.pyplot.show()\n",
        "   "
      ]
    },
    {
      "cell_type": "markdown",
      "metadata": {
        "id": "Zyr-m_Ymzrid"
      },
      "source": [
        "## Notes on shit above\n",
        "\n",
        "What we have done is prove a claim that most of the absurdities occur around the region window shaped somewhat like this : ![test.png](data:image/png;base64,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)\n",
        "\n",
        "Now to make sense of this :\n",
        "\n",
        "Initially we have the count of almost black pixels (RGB $\\in [0,1)$ ) using this logic we see that most of the dataset has a median of around 2081. So by logic if these black pixels were evenly distibuted in the daatset then it shoudl come around 10% which it actually does?"
      ]
    },
    {
      "cell_type": "markdown",
      "source": [
        "# To mask or not to mask"
      ],
      "metadata": {
        "id": "pyV1cIX--DYE"
      }
    },
    {
      "cell_type": "code",
      "execution_count": null,
      "metadata": {
        "id": "F9ce0iguMRj7"
      },
      "outputs": [],
      "source": [
        "# Unmasked array still required rescaling\n",
        "num_classes = 4\n",
        "\n",
        "train_x_scaled = [rescale_0_1(x) for x in train_x]\n",
        "valid_x_scaled = [rescale_0_1(x) for x in valid_x]\n",
        "test_x_scaled  = [rescale_0_1(x) for x in  test_x]"
      ]
    },
    {
      "cell_type": "markdown",
      "source": [
        "## Masked case"
      ],
      "metadata": {
        "id": "LbY6HV9u-YlZ"
      }
    },
    {
      "cell_type": "code",
      "execution_count": null,
      "metadata": {
        "colab": {
          "base_uri": "https://localhost:8080/"
        },
        "id": "IeX0XwcuYV3D",
        "outputId": "d3df482f-1e99-4700-f815-d1462058ad37"
      },
      "outputs": [
        {
          "name": "stdout",
          "output_type": "stream",
          "text": [
            "(45000, 54, 54, 3)\n",
            "(15000, 54, 54, 3)\n",
            "(10000, 54, 54, 3)\n",
            "(45000, 4)\n",
            "(15000, 4)\n",
            "(10000, 4)\n"
          ]
        }
      ],
      "source": [
        "# We will dp the default working with what was presented in the class\n",
        "batch_size = 128\n",
        "num_classes = 4\n",
        "epochs = 10\n",
        "\n",
        "sections = list(range(5,27)) + list(range(27,59))\n",
        "\n",
        "# Slicing is weird in numpy\n",
        "x_train = numpy.moveaxis(train_x_scaled, [0,1,2,3], [0,3,1,2])[:, : , sections, :][:, sections, : , :]\n",
        "x_valid = numpy.moveaxis(valid_x_scaled, [0,1,2,3], [0,3,1,2])[:, : , sections, :][:, sections, : , :]\n",
        "x_test  = numpy.moveaxis(test_x_scaled,  [0,1,2,3], [0,3,1,2])[:, : , sections, :][:, sections, : , :]\n",
        "# convert class vectors to binary class matrices\n",
        "y_train = keras.utils.to_categorical(train_y, num_classes)\n",
        "y_valid = keras.utils.to_categorical(valid_y, num_classes)\n",
        "y_test = keras.utils.to_categorical(test_y, num_classes)\n",
        "\n",
        "del(train_x_scaled)\n",
        "del(valid_x_scaled)\n",
        "del(test_x_scaled)\n",
        "del(train_y)\n",
        "del(valid_x)\n",
        "del(test_y)"
      ]
    },
    {
      "cell_type": "markdown",
      "source": [
        "## Unmasked case"
      ],
      "metadata": {
        "id": "MCg_GkYX_Tkt"
      }
    },
    {
      "cell_type": "code",
      "source": [
        "# Slicing is weird in numpy\n",
        "x_train = numpy.moveaxis(train_x, [0,1,2,3], [0,3,1,2])\n",
        "x_valid = numpy.moveaxis(valid_x, [0,1,2,3], [0,3,1,2])\n",
        "x_test = numpy.moveaxis(test_x, [0,1,2,3], [0,3,1,2])\n",
        "\n",
        "# convert class vectors to binary class matrices\n",
        "y_train = keras.utils.to_categorical(train_y, num_classes)\n",
        "y_valid = keras.utils.to_categorical(valid_y, num_classes)\n",
        "y_test = keras.utils.to_categorical(test_y, num_classes)\n",
        "\n",
        "del(train_x_scaled)\n",
        "del(valid_x_scaled)\n",
        "del(test_x_scaled)\n",
        "del(train_y)\n",
        "del(valid_x)\n",
        "del(test_y)"
      ],
      "metadata": {
        "id": "jnX09frp_V8y"
      },
      "execution_count": null,
      "outputs": []
    },
    {
      "cell_type": "markdown",
      "source": [
        "# Some tf callbacks"
      ],
      "metadata": {
        "id": "Vm9LtJZpAHYY"
      }
    },
    {
      "cell_type": "code",
      "execution_count": null,
      "metadata": {
        "id": "iyrsj987DEOA"
      },
      "outputs": [],
      "source": [
        "logdir = os.path.join(\"logs\", datetime.datetime.now().strftime(\"%Y%m%d-%H%M%S\"))\n",
        "tensorboard_callback = tf.keras.callbacks.TensorBoard(logdir, histogram_freq=1)\n",
        "callback = tf.keras.callbacks.EarlyStopping(monitor='val_loss', patience=10)\n",
        "model_checkpoint_callback = tf.keras.callbacks.ModelCheckpoint(\n",
        "    filepath=\"/content/drive/My Drive/Models/weights-{epoch:02d}-{val_accuracy:.2f}.h5\",\n",
        "    save_weights_only=True,\n",
        "    monitor='val_accuracy',\n",
        "    mode='max',\n",
        "    save_best_only=True)\n"
      ]
    },
    {
      "cell_type": "markdown",
      "source": [
        "# Select Model"
      ],
      "metadata": {
        "id": "PEcO4QUtF1Ff"
      }
    },
    {
      "cell_type": "markdown",
      "source": [
        "## Class (Elly) Model"
      ],
      "metadata": {
        "id": "nyn0ZjafF22k"
      }
    },
    {
      "cell_type": "code",
      "execution_count": null,
      "metadata": {
        "id": "GdLV57IaK-WI"
      },
      "outputs": [],
      "source": [
        "class EllyModel(keras.Model):\n",
        "\n",
        "  def __init__(self, num_of_classes : int):\n",
        "    super().__init__()\n",
        "    self.conv2d_1       = keras.layers.Conv2D(32, kernel_size = (3,3), activation = 'relu')\n",
        "    self.max_pool_2d_1  = keras.layers.MaxPooling2D(pool_size = (2,2))\n",
        "    self.conv_2d_2      = keras.layers.Conv2D(64, (3,3), activation = 'relu')\n",
        "    self.max_pool_2d_2  = keras.layers.MaxPooling2D(pool_size = (2,2))\n",
        "    self.dropout_1      = keras.layers.Dropout(0.25)\n",
        "    self.flatten_1      = keras.layers.Flatten()\n",
        "    self.dense_1        = keras.layers.Dense(128, activation = 'relu')\n",
        "    self.dropout_2      = keras.layers.Dropout(0.5)\n",
        "    self.dense_2        = keras.layers.Dense(num_of_classes, activation='softmax')\n",
        "\n",
        "  def call(self, inputs, training=False):\n",
        "    x = self.conv2d_1(inputs)\n",
        "    x = self.max_pool_2d_1(x)\n",
        "    x = self.conv_2d_2(x)\n",
        "    x = self.max_pool_2d_2(x)\n",
        "    if training:\n",
        "      x = self.dropout_1(x, training=training)\n",
        "    x = self.flatten_1(x)\n",
        "    x = self.dense_1(x)\n",
        "    if training: x = self.dropout_2(x, training = training)\n",
        "    return self.dense_2(x)\n",
        "\n"
      ]
    },
    {
      "cell_type": "code",
      "execution_count": null,
      "metadata": {
        "id": "-AKQYUwVY0WO"
      },
      "outputs": [],
      "source": [
        "model = EllyModel(4)\n",
        "model.build([None] + list(x_train.shape[1:]))"
      ]
    },
    {
      "cell_type": "markdown",
      "source": [
        "## ResNet-50"
      ],
      "metadata": {
        "id": "Ko4Yd8A2Rb2n"
      }
    },
    {
      "cell_type": "code",
      "execution_count": null,
      "metadata": {
        "id": "yZ3p6mZktdLa",
        "colab": {
          "base_uri": "https://localhost:8080/"
        },
        "outputId": "e41559b7-6f08-4e6a-daef-3abd4e1e4263"
      },
      "outputs": [
        {
          "output_type": "stream",
          "name": "stdout",
          "text": [
            "Downloading data from https://storage.googleapis.com/tensorflow/keras-applications/resnet/resnet50_weights_tf_dim_ordering_tf_kernels_notop.h5\n",
            "94765736/94765736 [==============================] - 1s 0us/step\n"
          ]
        }
      ],
      "source": [
        "# Resnet50\n",
        "base_model = keras.applications.ResNet50(include_top = False, input_shape = x_train.shape[1:])\n",
        "\n",
        "x = base_model.output\n",
        "x = keras.layers.GlobalAveragePooling2D()(x)\n",
        "predictions = keras.layers.Dense(4, activation='softmax')(x)\n",
        "\n",
        "# this is the model we will train\n",
        "model = keras.Model(inputs=base_model.input, outputs=predictions)\n",
        "\n",
        "# first: train only the top layers (which were randomly initialized)\n",
        "# i.e. freeze all convolutional InceptionV3 layers\n",
        "# for layer in base_model.layers:\n",
        "#   layer.trainable = False\n",
        "\n",
        "# compile the model (should be done *after* setting layers to non-trainable)\n",
        "model.compile(loss=keras.losses.categorical_crossentropy, optimizer='adam', metrics=['accuracy'])\n",
        "# model.summary()"
      ]
    },
    {
      "cell_type": "markdown",
      "source": [
        "## DenseNet169"
      ],
      "metadata": {
        "id": "eoSrT6WbSdoR"
      }
    },
    {
      "cell_type": "code",
      "execution_count": null,
      "metadata": {
        "id": "wmo1cRMNYV3D"
      },
      "outputs": [],
      "source": [
        "# DenseNet169\n",
        "base_model = keras.applications.DenseNet169(\n",
        "    include_top = False, \n",
        "    input_shape = x_train.shape[1:])\n",
        "\n",
        "# this is the model we will train\n",
        "# base_model.summary()\n",
        "x = base_model.output\n",
        "x = keras.layers.Flatten()(x)\n",
        "predictions = keras.layers.Dense(10, activation='softmax')(x)\n",
        "predictions = keras.layers.Dense(1000, activation = 'softmax')(x)\n",
        "predictions = keras.layers.Dense(1000, activation = 'softmax')(x)\n",
        "predictions = keras.layers.Dense(1000, activation = 'relu')(x)\n",
        "predictions = keras.layers.Dense(4)(x)\n",
        "\n",
        "# this is the model we will train\n",
        "model = keras.Model(inputs=base_model.input, outputs=predictions)\n",
        "del(base_model)\n",
        "del(x)\n",
        "\n",
        "# first: train only the top layers (which were randomly initialized)\n",
        "# i.e. freeze all convolutional InceptionV3 layers\n",
        "# for layer in base_model.layers:\n",
        "#   layer.trainable = False\n",
        "\n",
        "# compile the model (should be done *after* setting layers to non-trainable)\n",
        "model.compile(loss=keras.losses.MSE, \n",
        "              optimizer = 'adamax', metrics=['accuracy'])\n",
        "# model.summary()"
      ]
    },
    {
      "cell_type": "markdown",
      "source": [
        "## DenseNet201"
      ],
      "metadata": {
        "id": "NQ1bd_SZTmG-"
      }
    },
    {
      "cell_type": "code",
      "execution_count": null,
      "metadata": {
        "id": "s7UwAxwqmuTf",
        "colab": {
          "base_uri": "https://localhost:8080/"
        },
        "outputId": "d1bb15b6-92cf-4e59-bf23-d90aa4e08811"
      },
      "outputs": [
        {
          "output_type": "stream",
          "name": "stdout",
          "text": [
            "Downloading data from https://storage.googleapis.com/tensorflow/keras-applications/densenet/densenet201_weights_tf_dim_ordering_tf_kernels_notop.h5\n",
            "74836368/74836368 [==============================] - 0s 0us/step\n"
          ]
        }
      ],
      "source": [
        "# DenseNet201\n",
        "base_model = keras.applications.DenseNet201(\n",
        "    include_top = False, \n",
        "    input_shape = x_train.shape[1:])\n",
        "\n",
        "# this is the model we will train\n",
        "# base_model.summary()\n",
        "x = base_model.output\n",
        "x = keras.layers.Flatten()(x)\n",
        "predictions = keras.layers.Dense(4, activation='softmax')(x)\n",
        "\n",
        "# this is the model we will train\n",
        "model = keras.Model(inputs=base_model.input, outputs=predictions)\n",
        "\n",
        "# first: train only the top layers (which were randomly initialized)\n",
        "# i.e. freeze all convolutional InceptionV3 layers\n",
        "# for layer in base_model.layers:\n",
        "#   layer.trainable = False\n",
        "del(base_model)\n",
        "del(x)\n",
        "\n",
        "# compile the model (should be done *after* setting layers to non-trainable)\n",
        "model.compile(loss=keras.losses.categorical_crossentropy, \n",
        "              optimizer = 'adamax', metrics=['accuracy'])\n",
        "# model.summary()"
      ]
    },
    {
      "cell_type": "markdown",
      "metadata": {
        "id": "EnNuOXqIN1du"
      },
      "source": [
        "# Training and First Eval"
      ]
    },
    {
      "cell_type": "markdown",
      "metadata": {
        "id": "Wv-89owwJ8N3"
      },
      "source": [
        "## Fitting the model"
      ]
    },
    {
      "cell_type": "code",
      "execution_count": null,
      "metadata": {
        "colab": {
          "base_uri": "https://localhost:8080/"
        },
        "id": "WSzXN9xsYV3D",
        "outputId": "2b37ea58-bd42-4dea-9456-362a87e003dd"
      },
      "outputs": [
        {
          "output_type": "stream",
          "name": "stdout",
          "text": [
            "Epoch 1/100\n",
            "1407/1407 [==============================] - 193s 115ms/step - loss: 1.4969 - accuracy: 0.3422 - val_loss: 1.2256 - val_accuracy: 0.4081\n",
            "Epoch 2/100\n",
            "1407/1407 [==============================] - 154s 109ms/step - loss: 1.3119 - accuracy: 0.4187 - val_loss: 2.0120 - val_accuracy: 0.4589\n",
            "Epoch 3/100\n",
            "1407/1407 [==============================] - 155s 110ms/step - loss: 1.2088 - accuracy: 0.4590 - val_loss: 5.3583 - val_accuracy: 0.4395\n",
            "Epoch 4/100\n",
            "1407/1407 [==============================] - 167s 119ms/step - loss: 1.1257 - accuracy: 0.5003 - val_loss: 1.2134 - val_accuracy: 0.5239\n",
            "Epoch 5/100\n",
            "1407/1407 [==============================] - 171s 122ms/step - loss: 1.0214 - accuracy: 0.5420 - val_loss: 4.4749 - val_accuracy: 0.5565\n",
            "Epoch 6/100\n",
            "1407/1407 [==============================] - 163s 116ms/step - loss: 0.9350 - accuracy: 0.5848 - val_loss: 0.9853 - val_accuracy: 0.5830\n",
            "Epoch 7/100\n",
            "1407/1407 [==============================] - 153s 109ms/step - loss: 0.8359 - accuracy: 0.6279 - val_loss: 0.9875 - val_accuracy: 0.5825\n",
            "Epoch 8/100\n",
            "1407/1407 [==============================] - 161s 115ms/step - loss: 0.7500 - accuracy: 0.6691 - val_loss: 0.9986 - val_accuracy: 0.5935\n",
            "Epoch 9/100\n",
            "1407/1407 [==============================] - 158s 112ms/step - loss: 0.6244 - accuracy: 0.7310 - val_loss: 0.8932 - val_accuracy: 0.6203\n",
            "Epoch 10/100\n",
            "1407/1407 [==============================] - 163s 116ms/step - loss: 0.4641 - accuracy: 0.8048 - val_loss: 0.9906 - val_accuracy: 0.6220\n",
            "Epoch 11/100\n",
            "1407/1407 [==============================] - 153s 109ms/step - loss: 0.4321 - accuracy: 0.8227 - val_loss: 1.1241 - val_accuracy: 0.5947\n",
            "Epoch 12/100\n",
            "1407/1407 [==============================] - 160s 114ms/step - loss: 0.4042 - accuracy: 0.8378 - val_loss: 1.1114 - val_accuracy: 0.5960\n",
            "Epoch 13/100\n",
            "1407/1407 [==============================] - 165s 118ms/step - loss: 0.3814 - accuracy: 0.8480 - val_loss: 1.0578 - val_accuracy: 0.6333\n",
            "Epoch 14/100\n",
            "1407/1407 [==============================] - 150s 107ms/step - loss: 0.2801 - accuracy: 0.8906 - val_loss: 1.2140 - val_accuracy: 0.6006\n",
            "Epoch 15/100\n",
            "1407/1407 [==============================] - 162s 115ms/step - loss: 0.2438 - accuracy: 0.9069 - val_loss: 1.2242 - val_accuracy: 0.6263\n",
            "Epoch 16/100\n",
            "1407/1407 [==============================] - 153s 109ms/step - loss: 0.2106 - accuracy: 0.9206 - val_loss: 1.2037 - val_accuracy: 0.6448\n",
            "Epoch 17/100\n",
            "1407/1407 [==============================] - 155s 110ms/step - loss: 0.1671 - accuracy: 0.9386 - val_loss: 1.2571 - val_accuracy: 0.6399\n",
            "Epoch 18/100\n",
            "1407/1407 [==============================] - 159s 113ms/step - loss: 0.1659 - accuracy: 0.9392 - val_loss: 1.3272 - val_accuracy: 0.6383\n",
            "Epoch 19/100\n",
            "1407/1407 [==============================] - 158s 112ms/step - loss: 0.1361 - accuracy: 0.9512 - val_loss: 1.4152 - val_accuracy: 0.6383\n"
          ]
        }
      ],
      "source": [
        "history = model.fit(\n",
        "    x= x_train,\n",
        "    y= y_train,\n",
        "    batch_size=None,\n",
        "    epochs= 100,\n",
        "    verbose=\"auto\",\n",
        "    callbacks=[tensorboard_callback, callback, model_checkpoint_callback],\n",
        "    validation_split=0.0,\n",
        "    validation_data=(x_valid, y_valid),\n",
        "    shuffle=True,\n",
        "    class_weight=None,\n",
        "    sample_weight=None,\n",
        "    initial_epoch=0,\n",
        "    steps_per_epoch=None,\n",
        "    validation_steps=None,\n",
        "    validation_batch_size=None,\n",
        "    validation_freq=1,\n",
        "    max_queue_size=10,\n",
        "    workers=4,\n",
        "    use_multiprocessing=True,\n",
        ")"
      ]
    },
    {
      "cell_type": "markdown",
      "metadata": {
        "id": "sNOzAaV4J3Y6"
      },
      "source": [
        "## Evaluation"
      ]
    },
    {
      "cell_type": "code",
      "execution_count": null,
      "metadata": {
        "colab": {
          "base_uri": "https://localhost:8080/"
        },
        "id": "8dXCVd1ZDEOA",
        "outputId": "0ff03d6a-4ebc-4d69-b7e6-29eb8d7da7e3"
      },
      "outputs": [
        {
          "output_type": "stream",
          "name": "stdout",
          "text": [
            "313/313 [==============================] - 11s 34ms/step - loss: 1.5822 - accuracy: 0.6191\n",
            "Final score is :  (Loss -> 1.5822479724884033) , (Accuracy -> 0.6190999746322632\n"
          ]
        }
      ],
      "source": [
        "score = model.evaluate(\n",
        "    x=x_test,\n",
        "    y=y_test,\n",
        "    batch_size=None,\n",
        "    verbose=\"auto\",\n",
        "    sample_weight=None,\n",
        "    steps=None,\n",
        "    callbacks=None,\n",
        "    max_queue_size=10,\n",
        "    workers=4,\n",
        "    use_multiprocessing=True,\n",
        "    return_dict=False,\n",
        "    # **kwargs\n",
        ")\n",
        "print(f\"Final score is :  (Loss -> {score[0]}) , (Accuracy -> {score[1]}\")"
      ]
    },
    {
      "cell_type": "markdown",
      "source": [
        "# Save Model"
      ],
      "metadata": {
        "id": "jws-7c7iTM-g"
      }
    },
    {
      "cell_type": "code",
      "execution_count": null,
      "metadata": {
        "id": "ndCaoSwdDEOA"
      },
      "outputs": [],
      "source": [
        "import datetime\n",
        "filename : str = datetime.datetime.now().__str__()\n",
        "model.save(f\"/content/drive/My Drive/Models/densenet169_{filename}_unmasked.tf\")\n",
        "model.save(f\"/content/drive/My Drive/Models/densenet169_{filename}_unmasked.h5\")"
      ]
    },
    {
      "cell_type": "code",
      "execution_count": null,
      "metadata": {
        "id": "9acw9kubFofb"
      },
      "outputs": [],
      "source": [
        "# Save it somewhere\n",
        "!cp -r /content/logs \"/content/drive/My Drive/Logs/densenet169_unmasked\""
      ]
    },
    {
      "cell_type": "markdown",
      "source": [
        "# Tensorflow"
      ],
      "metadata": {
        "id": "gc1Mt14eSCjQ"
      }
    },
    {
      "cell_type": "code",
      "execution_count": null,
      "metadata": {
        "id": "MeZ69Ynip1hU"
      },
      "outputs": [],
      "source": [
        "%load_ext tensorboard\n",
        "%tensorboard --logdir /content/logs"
      ]
    },
    {
      "cell_type": "markdown",
      "metadata": {
        "id": "l7h7cdfMDJc3"
      },
      "source": [
        "# Memory clearance"
      ]
    },
    {
      "cell_type": "code",
      "execution_count": null,
      "metadata": {
        "colab": {
          "base_uri": "https://localhost:8080/"
        },
        "id": "Z46aJmYTTPEF",
        "outputId": "e37b504c-3e4b-469b-fb48-c451f4c62c80"
      },
      "outputs": [
        {
          "output_type": "stream",
          "name": "stdout",
          "text": [
            "name 'x_train_reshaped' is not defined\n",
            "name 'x_valid_reshaped' is not defined\n",
            "name 'x_test_reshaped' is not defined\n",
            "name 'history' is not defined\n",
            "name 'base_model' is not defined\n",
            "name 'x' is not defined\n",
            "name 'sections' is not defined\n"
          ]
        },
        {
          "output_type": "execute_result",
          "data": {
            "text/plain": [
              "1769"
            ]
          },
          "metadata": {},
          "execution_count": 11
        }
      ],
      "source": [
        "# clearing out unnecessary variables modules\n",
        "import gc\n",
        "\n",
        "# Custom Callback To Include in Callbacks List At Training Time\n",
        "class GarbageCollectorCallback(tf.keras.callbacks.Callback):\n",
        "    def on_epoch_end(self, epoch, logs=None):\n",
        "        gc.collect()\n",
        "    \n",
        "unnecessary_variables = [\n",
        "    'x_train_reshaped',\n",
        "    'x_valid_reshaped',\n",
        "    'x_test_reshaped',\n",
        "    #'y_train',\n",
        "    #'y_valid',\n",
        "    #'y_test',\n",
        "    'history',\n",
        "    # 'model',\n",
        "    'base_model',\n",
        "    'x',\n",
        "    'sections',\n",
        "    'pool']\n",
        "\n",
        "for var in unnecessary_variables:\n",
        "  try:\n",
        "    exec(f\"del({var})\")\n",
        "  except Exception as e: \n",
        "    print(e)\n",
        "\n",
        "gc.collect()"
      ]
    },
    {
      "cell_type": "markdown",
      "source": [
        "# Final test"
      ],
      "metadata": {
        "id": "ni0-vTWQdq8-"
      }
    },
    {
      "cell_type": "code",
      "source": [
        "print('Done')"
      ],
      "metadata": {
        "id": "FSUeGs9WdtDj"
      },
      "execution_count": null,
      "outputs": []
    }
  ],
  "metadata": {
    "accelerator": "GPU",
    "colab": {
      "collapsed_sections": [
        "UXZH30cK92iC",
        "HugxATTxAttK",
        "6nh-dYjEI_Az",
        "Ivc622z2dg9A",
        "LbY6HV9u-YlZ",
        "MCg_GkYX_Tkt",
        "nyn0ZjafF22k",
        "Ko4Yd8A2Rb2n",
        "eoSrT6WbSdoR",
        "gc1Mt14eSCjQ"
      ],
      "provenance": []
    },
    "gpuClass": "standard",
    "kernelspec": {
      "display_name": "Python 3",
      "name": "python3"
    },
    "language_info": {
      "name": "python"
    }
  },
  "nbformat": 4,
  "nbformat_minor": 0
}